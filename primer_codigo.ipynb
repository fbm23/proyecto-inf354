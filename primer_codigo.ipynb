{
  "nbformat": 4,
  "nbformat_minor": 0,
  "metadata": {
    "colab": {
      "provenance": []
    },
    "kernelspec": {
      "name": "python3",
      "display_name": "Python 3"
    },
    "language_info": {
      "name": "python"
    }
  },
  "cells": [
    {
      "cell_type": "code",
      "execution_count": 21,
      "metadata": {
        "id": "Uqm_PXql1UTQ"
      },
      "outputs": [],
      "source": [
        "import pandas as pd\n",
        "from sklearn.model_selection import train_test_split, KFold\n",
        "from sklearn.ensemble import RandomForestRegressor\n",
        "from sklearn.metrics import mean_squared_error, r2_score\n",
        "import numpy as np\n"
      ]
    },
    {
      "cell_type": "markdown",
      "source": [
        "Cargar y Preprocesar el Dataset"
      ],
      "metadata": {
        "id": "S2W9_X7j1iQy"
      }
    },
    {
      "cell_type": "code",
      "source": [
        "from google.colab import drive\n",
        "\n",
        "# Montar Google Drive\n",
        "drive.mount('/content/drive')\n",
        "#'/content/drive/My Drive/proyectoIA/dataset_modificado.xlsx'\n",
        "\n",
        "# Cargar el dataset preprocesado\n",
        "df = pd.read_excel('/content/drive/My Drive/proyectoIA/dataset_modificado.xlsx')\n",
        "\n",
        "# Separar características (X) y la variable objetivo (y)\n",
        "X = df[['Producion', 'Nuclear', 'Wind', 'Hydroelectric', 'Oil and Gas', 'Coal', 'Solar', 'Biomass']]\n",
        "y = df['Consumo']\n"
      ],
      "metadata": {
        "colab": {
          "base_uri": "https://localhost:8080/"
        },
        "id": "r4gpvB1M1jJW",
        "outputId": "513a68f3-6dd6-4b0f-caf7-778388f9b83e"
      },
      "execution_count": 22,
      "outputs": [
        {
          "output_type": "stream",
          "name": "stdout",
          "text": [
            "Drive already mounted at /content/drive; to attempt to forcibly remount, call drive.mount(\"/content/drive\", force_remount=True).\n"
          ]
        }
      ]
    },
    {
      "cell_type": "markdown",
      "source": [
        "Entrenamiento y Evaluación del Modelo Random Forest\n",
        "\n",
        "Primera Ejecución: 80/20 y 50/50 Split\n",
        "\n",
        "División 80/20 para Entrenamiento y Prueba"
      ],
      "metadata": {
        "id": "bq0af6Pf25QR"
      }
    },
    {
      "cell_type": "code",
      "source": [
        "# División 80/20\n",
        "X_train, X_test, y_train, y_test = train_test_split(X, y, test_size=0.2, random_state=42)\n",
        "\n",
        "# Inicializar el modelo Random Forest Regressor\n",
        "rf = RandomForestRegressor(random_state=42)\n",
        "\n",
        "# Entrenar el modelo\n",
        "rf.fit(X_train, y_train)\n",
        "\n",
        "# Predecir en el conjunto de prueba\n",
        "y_pred = rf.predict(X_test)\n",
        "\n",
        "# Evaluar el rendimiento\n",
        "mse = mean_squared_error(y_test, y_pred)\n",
        "r2 = r2_score(y_test, y_pred)\n",
        "print(f\"Mean Squared Error 80/20: {mse}\")\n",
        "print(f\"R^2 Score 80/20: {r2}\")\n",
        "\n"
      ],
      "metadata": {
        "colab": {
          "base_uri": "https://localhost:8080/"
        },
        "id": "SWXkYk-B3DbE",
        "outputId": "b7989ae7-fde8-447f-ffe8-70e22863eef0"
      },
      "execution_count": 23,
      "outputs": [
        {
          "output_type": "stream",
          "name": "stdout",
          "text": [
            "Mean Squared Error 80/20: 0.1440040893600498\n",
            "R^2 Score 80/20: 0.858390499704069\n"
          ]
        }
      ]
    },
    {
      "cell_type": "markdown",
      "source": [
        "División 50/50 para Entrenamiento y Prueba"
      ],
      "metadata": {
        "id": "uY6Nv_gB3IDe"
      }
    },
    {
      "cell_type": "code",
      "source": [
        "# División 50/50\n",
        "X_train, X_test, y_train, y_test = train_test_split(X, y, test_size=0.5, random_state=42)\n",
        "\n",
        "# Entrenar el modelo\n",
        "rf.fit(X_train, y_train)\n",
        "\n",
        "# Predecir en el conjunto de prueba\n",
        "y_pred = rf.predict(X_test)\n",
        "\n",
        "# Evaluar el rendimiento\n",
        "mse = mean_squared_error(y_test, y_pred)\n",
        "r2 = r2_score(y_test, y_pred)\n",
        "print(f\"Mean Squared Error 50/50: {mse}\")\n",
        "print(f\"R^2 Score 50/50: {r2}\")\n"
      ],
      "metadata": {
        "colab": {
          "base_uri": "https://localhost:8080/"
        },
        "id": "0H9ImBG33K2L",
        "outputId": "ced920a6-04c5-473a-fe03-b9e8935f68b9"
      },
      "execution_count": 24,
      "outputs": [
        {
          "output_type": "stream",
          "name": "stdout",
          "text": [
            "Mean Squared Error 50/50: 0.16403824740931328\n",
            "R^2 Score 50/50: 0.836977512547026\n"
          ]
        }
      ]
    },
    {
      "cell_type": "markdown",
      "source": [
        "Splits: Al menos 100 Asignaciones\n",
        "\n",
        "Ejecución de 100 Splits y Cálculo de la Mediana de la Confiabilidad"
      ],
      "metadata": {
        "id": "Pg0yZbxD71-u"
      }
    },
    {
      "cell_type": "code",
      "source": [
        "# Inicializar K-Fold\n",
        "kf = KFold(n_splits=100, shuffle=True, random_state=42)\n",
        "mse_scores = []\n",
        "r2_scores = []\n",
        "\n",
        "for train_index, test_index in kf.split(X, y):\n",
        "    X_train, X_test = X.iloc[train_index], X.iloc[test_index]\n",
        "    y_train, y_test = y.iloc[train_index], y.iloc[test_index]\n",
        "\n",
        "    rf.fit(X_train, y_train)\n",
        "    y_pred = rf.predict(X_test)\n",
        "    mse_scores.append(mean_squared_error(y_test, y_pred))\n",
        "    r2_scores.append(r2_score(y_test, y_pred))\n",
        "\n",
        "# Mediana del rendimiento\n",
        "median_mse = np.median(mse_scores)\n",
        "median_r2 = np.median(r2_scores)\n",
        "print(f\"Mediana del MSE (100 splits): {median_mse}\")\n",
        "print(f\"Mediana del R^2 (100 splits): {median_r2}\")\n"
      ],
      "metadata": {
        "id": "kcJ-TFmq74gE"
      },
      "execution_count": null,
      "outputs": []
    }
  ]
}